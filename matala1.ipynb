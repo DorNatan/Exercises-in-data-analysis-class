{
 "cells": [
  {
   "cell_type": "markdown",
   "metadata": {},
   "source": [
    "### name of students:\n",
    "\n",
    "Dor Natan, ID: 315533067\n",
    "\n",
    "Gil Abramovich, ID: 314722372"
   ]
  },
  {
   "cell_type": "markdown",
   "metadata": {},
   "source": [
    "#### solution to question 1:"
   ]
  },
  {
   "cell_type": "code",
   "execution_count": 2,
   "metadata": {},
   "outputs": [
    {
     "data": {
      "text/html": [
       "<div>\n",
       "<style scoped>\n",
       "    .dataframe tbody tr th:only-of-type {\n",
       "        vertical-align: middle;\n",
       "    }\n",
       "\n",
       "    .dataframe tbody tr th {\n",
       "        vertical-align: top;\n",
       "    }\n",
       "\n",
       "    .dataframe thead th {\n",
       "        text-align: right;\n",
       "    }\n",
       "</style>\n",
       "<table border=\"1\" class=\"dataframe\">\n",
       "  <thead>\n",
       "    <tr style=\"text-align: right;\">\n",
       "      <th></th>\n",
       "      <th>location</th>\n",
       "      <th>iso_code</th>\n",
       "      <th>date</th>\n",
       "      <th>total_vaccinations</th>\n",
       "      <th>people_vaccinated</th>\n",
       "      <th>people_fully_vaccinated</th>\n",
       "      <th>daily_vaccinations_raw</th>\n",
       "      <th>daily_vaccinations</th>\n",
       "      <th>total_vaccinations_per_hundred</th>\n",
       "      <th>people_vaccinated_per_hundred</th>\n",
       "      <th>people_fully_vaccinated_per_hundred</th>\n",
       "      <th>daily_vaccinations_per_million</th>\n",
       "    </tr>\n",
       "  </thead>\n",
       "  <tbody>\n",
       "    <tr>\n",
       "      <th>0</th>\n",
       "      <td>Afghanistan</td>\n",
       "      <td>AFG</td>\n",
       "      <td>2021-02-22</td>\n",
       "      <td>0.0</td>\n",
       "      <td>0.0</td>\n",
       "      <td>NaN</td>\n",
       "      <td>NaN</td>\n",
       "      <td>NaN</td>\n",
       "      <td>0.0</td>\n",
       "      <td>0.0</td>\n",
       "      <td>NaN</td>\n",
       "      <td>NaN</td>\n",
       "    </tr>\n",
       "    <tr>\n",
       "      <th>1</th>\n",
       "      <td>Afghanistan</td>\n",
       "      <td>AFG</td>\n",
       "      <td>2021-02-23</td>\n",
       "      <td>NaN</td>\n",
       "      <td>NaN</td>\n",
       "      <td>NaN</td>\n",
       "      <td>NaN</td>\n",
       "      <td>1367.0</td>\n",
       "      <td>NaN</td>\n",
       "      <td>NaN</td>\n",
       "      <td>NaN</td>\n",
       "      <td>35.0</td>\n",
       "    </tr>\n",
       "    <tr>\n",
       "      <th>2</th>\n",
       "      <td>Afghanistan</td>\n",
       "      <td>AFG</td>\n",
       "      <td>2021-02-24</td>\n",
       "      <td>NaN</td>\n",
       "      <td>NaN</td>\n",
       "      <td>NaN</td>\n",
       "      <td>NaN</td>\n",
       "      <td>1367.0</td>\n",
       "      <td>NaN</td>\n",
       "      <td>NaN</td>\n",
       "      <td>NaN</td>\n",
       "      <td>35.0</td>\n",
       "    </tr>\n",
       "    <tr>\n",
       "      <th>3</th>\n",
       "      <td>Afghanistan</td>\n",
       "      <td>AFG</td>\n",
       "      <td>2021-02-25</td>\n",
       "      <td>NaN</td>\n",
       "      <td>NaN</td>\n",
       "      <td>NaN</td>\n",
       "      <td>NaN</td>\n",
       "      <td>1367.0</td>\n",
       "      <td>NaN</td>\n",
       "      <td>NaN</td>\n",
       "      <td>NaN</td>\n",
       "      <td>35.0</td>\n",
       "    </tr>\n",
       "    <tr>\n",
       "      <th>4</th>\n",
       "      <td>Afghanistan</td>\n",
       "      <td>AFG</td>\n",
       "      <td>2021-02-26</td>\n",
       "      <td>NaN</td>\n",
       "      <td>NaN</td>\n",
       "      <td>NaN</td>\n",
       "      <td>NaN</td>\n",
       "      <td>1367.0</td>\n",
       "      <td>NaN</td>\n",
       "      <td>NaN</td>\n",
       "      <td>NaN</td>\n",
       "      <td>35.0</td>\n",
       "    </tr>\n",
       "  </tbody>\n",
       "</table>\n",
       "</div>"
      ],
      "text/plain": [
       "      location iso_code        date  total_vaccinations  people_vaccinated  \\\n",
       "0  Afghanistan      AFG  2021-02-22                 0.0                0.0   \n",
       "1  Afghanistan      AFG  2021-02-23                 NaN                NaN   \n",
       "2  Afghanistan      AFG  2021-02-24                 NaN                NaN   \n",
       "3  Afghanistan      AFG  2021-02-25                 NaN                NaN   \n",
       "4  Afghanistan      AFG  2021-02-26                 NaN                NaN   \n",
       "\n",
       "   people_fully_vaccinated  daily_vaccinations_raw  daily_vaccinations  \\\n",
       "0                      NaN                     NaN                 NaN   \n",
       "1                      NaN                     NaN              1367.0   \n",
       "2                      NaN                     NaN              1367.0   \n",
       "3                      NaN                     NaN              1367.0   \n",
       "4                      NaN                     NaN              1367.0   \n",
       "\n",
       "   total_vaccinations_per_hundred  people_vaccinated_per_hundred  \\\n",
       "0                             0.0                            0.0   \n",
       "1                             NaN                            NaN   \n",
       "2                             NaN                            NaN   \n",
       "3                             NaN                            NaN   \n",
       "4                             NaN                            NaN   \n",
       "\n",
       "   people_fully_vaccinated_per_hundred  daily_vaccinations_per_million  \n",
       "0                                  NaN                             NaN  \n",
       "1                                  NaN                            35.0  \n",
       "2                                  NaN                            35.0  \n",
       "3                                  NaN                            35.0  \n",
       "4                                  NaN                            35.0  "
      ]
     },
     "execution_count": 2,
     "metadata": {},
     "output_type": "execute_result"
    }
   ],
   "source": [
    "import pandas as pd\n",
    "url = \"https://raw.githubusercontent.com/owid/covid-19-data/master/public/data/vaccinations/vaccinations.csv\"\n",
    "vacc_df = pd.read_csv(url)\n",
    "vacc_df.head()"
   ]
  },
  {
   "cell_type": "markdown",
   "metadata": {},
   "source": [
    "#### solution to question 2 - we chose Denmark because the name Dor begins with \"D\""
   ]
  },
  {
   "cell_type": "code",
   "execution_count": 3,
   "metadata": {},
   "outputs": [
    {
     "data": {
      "text/html": [
       "<div>\n",
       "<style scoped>\n",
       "    .dataframe tbody tr th:only-of-type {\n",
       "        vertical-align: middle;\n",
       "    }\n",
       "\n",
       "    .dataframe tbody tr th {\n",
       "        vertical-align: top;\n",
       "    }\n",
       "\n",
       "    .dataframe thead th {\n",
       "        text-align: right;\n",
       "    }\n",
       "</style>\n",
       "<table border=\"1\" class=\"dataframe\">\n",
       "  <thead>\n",
       "    <tr style=\"text-align: right;\">\n",
       "      <th></th>\n",
       "      <th>location</th>\n",
       "      <th>iso_code</th>\n",
       "      <th>date</th>\n",
       "      <th>total_vaccinations</th>\n",
       "      <th>people_vaccinated</th>\n",
       "      <th>people_fully_vaccinated</th>\n",
       "      <th>daily_vaccinations_raw</th>\n",
       "      <th>daily_vaccinations</th>\n",
       "      <th>total_vaccinations_per_hundred</th>\n",
       "      <th>people_vaccinated_per_hundred</th>\n",
       "      <th>people_fully_vaccinated_per_hundred</th>\n",
       "      <th>daily_vaccinations_per_million</th>\n",
       "    </tr>\n",
       "  </thead>\n",
       "  <tbody>\n",
       "    <tr>\n",
       "      <th>2078</th>\n",
       "      <td>Denmark</td>\n",
       "      <td>DNK</td>\n",
       "      <td>2020-12-27</td>\n",
       "      <td>6425.0</td>\n",
       "      <td>6425.0</td>\n",
       "      <td>NaN</td>\n",
       "      <td>NaN</td>\n",
       "      <td>NaN</td>\n",
       "      <td>0.11</td>\n",
       "      <td>0.11</td>\n",
       "      <td>NaN</td>\n",
       "      <td>NaN</td>\n",
       "    </tr>\n",
       "    <tr>\n",
       "      <th>2079</th>\n",
       "      <td>Denmark</td>\n",
       "      <td>DNK</td>\n",
       "      <td>2020-12-28</td>\n",
       "      <td>8417.0</td>\n",
       "      <td>8417.0</td>\n",
       "      <td>NaN</td>\n",
       "      <td>1992.0</td>\n",
       "      <td>1992.0</td>\n",
       "      <td>0.15</td>\n",
       "      <td>0.15</td>\n",
       "      <td>NaN</td>\n",
       "      <td>344.0</td>\n",
       "    </tr>\n",
       "    <tr>\n",
       "      <th>2080</th>\n",
       "      <td>Denmark</td>\n",
       "      <td>DNK</td>\n",
       "      <td>2020-12-29</td>\n",
       "      <td>17298.0</td>\n",
       "      <td>17298.0</td>\n",
       "      <td>NaN</td>\n",
       "      <td>8881.0</td>\n",
       "      <td>5436.0</td>\n",
       "      <td>0.30</td>\n",
       "      <td>0.30</td>\n",
       "      <td>NaN</td>\n",
       "      <td>939.0</td>\n",
       "    </tr>\n",
       "    <tr>\n",
       "      <th>2081</th>\n",
       "      <td>Denmark</td>\n",
       "      <td>DNK</td>\n",
       "      <td>2020-12-30</td>\n",
       "      <td>28684.0</td>\n",
       "      <td>28684.0</td>\n",
       "      <td>NaN</td>\n",
       "      <td>11386.0</td>\n",
       "      <td>7420.0</td>\n",
       "      <td>0.50</td>\n",
       "      <td>0.50</td>\n",
       "      <td>NaN</td>\n",
       "      <td>1281.0</td>\n",
       "    </tr>\n",
       "    <tr>\n",
       "      <th>2082</th>\n",
       "      <td>Denmark</td>\n",
       "      <td>DNK</td>\n",
       "      <td>2020-12-31</td>\n",
       "      <td>34797.0</td>\n",
       "      <td>34797.0</td>\n",
       "      <td>NaN</td>\n",
       "      <td>6113.0</td>\n",
       "      <td>7093.0</td>\n",
       "      <td>0.60</td>\n",
       "      <td>0.60</td>\n",
       "      <td>NaN</td>\n",
       "      <td>1225.0</td>\n",
       "    </tr>\n",
       "    <tr>\n",
       "      <th>...</th>\n",
       "      <td>...</td>\n",
       "      <td>...</td>\n",
       "      <td>...</td>\n",
       "      <td>...</td>\n",
       "      <td>...</td>\n",
       "      <td>...</td>\n",
       "      <td>...</td>\n",
       "      <td>...</td>\n",
       "      <td>...</td>\n",
       "      <td>...</td>\n",
       "      <td>...</td>\n",
       "      <td>...</td>\n",
       "    </tr>\n",
       "    <tr>\n",
       "      <th>2157</th>\n",
       "      <td>Denmark</td>\n",
       "      <td>DNK</td>\n",
       "      <td>2021-03-16</td>\n",
       "      <td>874451.0</td>\n",
       "      <td>596175.0</td>\n",
       "      <td>278276.0</td>\n",
       "      <td>16276.0</td>\n",
       "      <td>13764.0</td>\n",
       "      <td>15.10</td>\n",
       "      <td>10.29</td>\n",
       "      <td>4.80</td>\n",
       "      <td>2376.0</td>\n",
       "    </tr>\n",
       "    <tr>\n",
       "      <th>2158</th>\n",
       "      <td>Denmark</td>\n",
       "      <td>DNK</td>\n",
       "      <td>2021-03-17</td>\n",
       "      <td>894301.0</td>\n",
       "      <td>606880.0</td>\n",
       "      <td>287421.0</td>\n",
       "      <td>19850.0</td>\n",
       "      <td>13833.0</td>\n",
       "      <td>15.44</td>\n",
       "      <td>10.48</td>\n",
       "      <td>4.96</td>\n",
       "      <td>2388.0</td>\n",
       "    </tr>\n",
       "    <tr>\n",
       "      <th>2159</th>\n",
       "      <td>Denmark</td>\n",
       "      <td>DNK</td>\n",
       "      <td>2021-03-18</td>\n",
       "      <td>916029.0</td>\n",
       "      <td>621438.0</td>\n",
       "      <td>294591.0</td>\n",
       "      <td>21728.0</td>\n",
       "      <td>15127.0</td>\n",
       "      <td>15.81</td>\n",
       "      <td>10.73</td>\n",
       "      <td>5.09</td>\n",
       "      <td>2612.0</td>\n",
       "    </tr>\n",
       "    <tr>\n",
       "      <th>2160</th>\n",
       "      <td>Denmark</td>\n",
       "      <td>DNK</td>\n",
       "      <td>2021-03-19</td>\n",
       "      <td>935357.0</td>\n",
       "      <td>628963.0</td>\n",
       "      <td>306394.0</td>\n",
       "      <td>19328.0</td>\n",
       "      <td>15882.0</td>\n",
       "      <td>16.15</td>\n",
       "      <td>10.86</td>\n",
       "      <td>5.29</td>\n",
       "      <td>2742.0</td>\n",
       "    </tr>\n",
       "    <tr>\n",
       "      <th>2161</th>\n",
       "      <td>Denmark</td>\n",
       "      <td>DNK</td>\n",
       "      <td>2021-03-20</td>\n",
       "      <td>943120.0</td>\n",
       "      <td>631860.0</td>\n",
       "      <td>311260.0</td>\n",
       "      <td>7763.0</td>\n",
       "      <td>15489.0</td>\n",
       "      <td>16.28</td>\n",
       "      <td>10.91</td>\n",
       "      <td>5.37</td>\n",
       "      <td>2674.0</td>\n",
       "    </tr>\n",
       "  </tbody>\n",
       "</table>\n",
       "<p>84 rows × 12 columns</p>\n",
       "</div>"
      ],
      "text/plain": [
       "     location iso_code        date  total_vaccinations  people_vaccinated  \\\n",
       "2078  Denmark      DNK  2020-12-27              6425.0             6425.0   \n",
       "2079  Denmark      DNK  2020-12-28              8417.0             8417.0   \n",
       "2080  Denmark      DNK  2020-12-29             17298.0            17298.0   \n",
       "2081  Denmark      DNK  2020-12-30             28684.0            28684.0   \n",
       "2082  Denmark      DNK  2020-12-31             34797.0            34797.0   \n",
       "...       ...      ...         ...                 ...                ...   \n",
       "2157  Denmark      DNK  2021-03-16            874451.0           596175.0   \n",
       "2158  Denmark      DNK  2021-03-17            894301.0           606880.0   \n",
       "2159  Denmark      DNK  2021-03-18            916029.0           621438.0   \n",
       "2160  Denmark      DNK  2021-03-19            935357.0           628963.0   \n",
       "2161  Denmark      DNK  2021-03-20            943120.0           631860.0   \n",
       "\n",
       "      people_fully_vaccinated  daily_vaccinations_raw  daily_vaccinations  \\\n",
       "2078                      NaN                     NaN                 NaN   \n",
       "2079                      NaN                  1992.0              1992.0   \n",
       "2080                      NaN                  8881.0              5436.0   \n",
       "2081                      NaN                 11386.0              7420.0   \n",
       "2082                      NaN                  6113.0              7093.0   \n",
       "...                       ...                     ...                 ...   \n",
       "2157                 278276.0                 16276.0             13764.0   \n",
       "2158                 287421.0                 19850.0             13833.0   \n",
       "2159                 294591.0                 21728.0             15127.0   \n",
       "2160                 306394.0                 19328.0             15882.0   \n",
       "2161                 311260.0                  7763.0             15489.0   \n",
       "\n",
       "      total_vaccinations_per_hundred  people_vaccinated_per_hundred  \\\n",
       "2078                            0.11                           0.11   \n",
       "2079                            0.15                           0.15   \n",
       "2080                            0.30                           0.30   \n",
       "2081                            0.50                           0.50   \n",
       "2082                            0.60                           0.60   \n",
       "...                              ...                            ...   \n",
       "2157                           15.10                          10.29   \n",
       "2158                           15.44                          10.48   \n",
       "2159                           15.81                          10.73   \n",
       "2160                           16.15                          10.86   \n",
       "2161                           16.28                          10.91   \n",
       "\n",
       "      people_fully_vaccinated_per_hundred  daily_vaccinations_per_million  \n",
       "2078                                  NaN                             NaN  \n",
       "2079                                  NaN                           344.0  \n",
       "2080                                  NaN                           939.0  \n",
       "2081                                  NaN                          1281.0  \n",
       "2082                                  NaN                          1225.0  \n",
       "...                                   ...                             ...  \n",
       "2157                                 4.80                          2376.0  \n",
       "2158                                 4.96                          2388.0  \n",
       "2159                                 5.09                          2612.0  \n",
       "2160                                 5.29                          2742.0  \n",
       "2161                                 5.37                          2674.0  \n",
       "\n",
       "[84 rows x 12 columns]"
      ]
     },
     "execution_count": 3,
     "metadata": {},
     "output_type": "execute_result"
    }
   ],
   "source": [
    "vacc_df[vacc_df.location.str.contains(\"Denmark\")]"
   ]
  },
  {
   "cell_type": "markdown",
   "metadata": {},
   "source": [
    "#### solution to question 3 - Number of records about Denmark is:"
   ]
  },
  {
   "cell_type": "code",
   "execution_count": 4,
   "metadata": {},
   "outputs": [
    {
     "data": {
      "text/plain": [
       "location                               84\n",
       "iso_code                               84\n",
       "date                                   84\n",
       "total_vaccinations                     84\n",
       "people_vaccinated                      84\n",
       "people_fully_vaccinated                65\n",
       "daily_vaccinations_raw                 83\n",
       "daily_vaccinations                     83\n",
       "total_vaccinations_per_hundred         84\n",
       "people_vaccinated_per_hundred          84\n",
       "people_fully_vaccinated_per_hundred    65\n",
       "daily_vaccinations_per_million         83\n",
       "dtype: int64"
      ]
     },
     "execution_count": 4,
     "metadata": {},
     "output_type": "execute_result"
    }
   ],
   "source": [
    "my_country = vacc_df[vacc_df.location.str.contains(\"Denmark\")]\n",
    "my_country.count()"
   ]
  },
  {
   "cell_type": "markdown",
   "metadata": {},
   "source": [
    "#### solution to question 4 - The date we vaccinated the most people is:"
   ]
  },
  {
   "cell_type": "code",
   "execution_count": 5,
   "metadata": {},
   "outputs": [
    {
     "data": {
      "text/plain": [
       "'2021-03-10'"
      ]
     },
     "execution_count": 5,
     "metadata": {},
     "output_type": "execute_result"
    }
   ],
   "source": [
    "max_vacc_daily = my_country.daily_vaccinations.max()\n",
    "max_vacc_daily\n",
    "vacc_df.loc[vacc_df.daily_vaccinations == max_vacc_daily, 'date'].values[0]"
   ]
  },
  {
   "cell_type": "markdown",
   "metadata": {},
   "source": [
    "#### solution to question 5 -"
   ]
  },
  {
   "cell_type": "code",
   "execution_count": 6,
   "metadata": {},
   "outputs": [
    {
     "data": {
      "text/html": [
       "<div>\n",
       "<style scoped>\n",
       "    .dataframe tbody tr th:only-of-type {\n",
       "        vertical-align: middle;\n",
       "    }\n",
       "\n",
       "    .dataframe tbody tr th {\n",
       "        vertical-align: top;\n",
       "    }\n",
       "\n",
       "    .dataframe thead th {\n",
       "        text-align: right;\n",
       "    }\n",
       "</style>\n",
       "<table border=\"1\" class=\"dataframe\">\n",
       "  <thead>\n",
       "    <tr style=\"text-align: right;\">\n",
       "      <th></th>\n",
       "      <th>location</th>\n",
       "      <th>date</th>\n",
       "      <th>daily_vaccinations</th>\n",
       "    </tr>\n",
       "  </thead>\n",
       "  <tbody>\n",
       "    <tr>\n",
       "      <th>2078</th>\n",
       "      <td>Denmark</td>\n",
       "      <td>2020-12-27</td>\n",
       "      <td>NaN</td>\n",
       "    </tr>\n",
       "    <tr>\n",
       "      <th>2079</th>\n",
       "      <td>Denmark</td>\n",
       "      <td>2020-12-28</td>\n",
       "      <td>1992.0</td>\n",
       "    </tr>\n",
       "    <tr>\n",
       "      <th>2080</th>\n",
       "      <td>Denmark</td>\n",
       "      <td>2020-12-29</td>\n",
       "      <td>5436.0</td>\n",
       "    </tr>\n",
       "    <tr>\n",
       "      <th>2081</th>\n",
       "      <td>Denmark</td>\n",
       "      <td>2020-12-30</td>\n",
       "      <td>7420.0</td>\n",
       "    </tr>\n",
       "    <tr>\n",
       "      <th>2082</th>\n",
       "      <td>Denmark</td>\n",
       "      <td>2020-12-31</td>\n",
       "      <td>7093.0</td>\n",
       "    </tr>\n",
       "    <tr>\n",
       "      <th>2083</th>\n",
       "      <td>Denmark</td>\n",
       "      <td>2021-01-01</td>\n",
       "      <td>6137.0</td>\n",
       "    </tr>\n",
       "  </tbody>\n",
       "</table>\n",
       "</div>"
      ],
      "text/plain": [
       "     location        date  daily_vaccinations\n",
       "2078  Denmark  2020-12-27                 NaN\n",
       "2079  Denmark  2020-12-28              1992.0\n",
       "2080  Denmark  2020-12-29              5436.0\n",
       "2081  Denmark  2020-12-30              7420.0\n",
       "2082  Denmark  2020-12-31              7093.0\n",
       "2083  Denmark  2021-01-01              6137.0"
      ]
     },
     "execution_count": 6,
     "metadata": {},
     "output_type": "execute_result"
    }
   ],
   "source": [
    "my_country[['location','date','daily_vaccinations']].head(6)"
   ]
  },
  {
   "cell_type": "markdown",
   "metadata": {},
   "source": [
    "#### solution to question 6 - The average number of vaccinations per day in Denmark is:"
   ]
  },
  {
   "cell_type": "code",
   "execution_count": 7,
   "metadata": {},
   "outputs": [
    {
     "data": {
      "text/plain": [
       "10896.313253012047"
      ]
     },
     "execution_count": 7,
     "metadata": {},
     "output_type": "execute_result"
    }
   ],
   "source": [
    "my_country.daily_vaccinations.mean()"
   ]
  },
  {
   "cell_type": "markdown",
   "metadata": {},
   "source": [
    "#### solution to question 7 - "
   ]
  },
  {
   "cell_type": "code",
   "execution_count": 1,
   "metadata": {},
   "outputs": [
    {
     "ename": "NameError",
     "evalue": "name 'my_country' is not defined",
     "output_type": "error",
     "traceback": [
      "\u001b[1;31m---------------------------------------------------------------------------\u001b[0m",
      "\u001b[1;31mNameError\u001b[0m                                 Traceback (most recent call last)",
      "\u001b[1;32m<ipython-input-1-672219902214>\u001b[0m in \u001b[0;36m<module>\u001b[1;34m\u001b[0m\n\u001b[1;32m----> 1\u001b[1;33m \u001b[0mno_NaN_pvph\u001b[0m\u001b[1;33m=\u001b[0m \u001b[0mmy_country\u001b[0m\u001b[1;33m.\u001b[0m\u001b[0mdropna\u001b[0m\u001b[1;33m(\u001b[0m\u001b[0msubset\u001b[0m \u001b[1;33m=\u001b[0m\u001b[1;33m[\u001b[0m\u001b[1;34m\"people_vaccinated_per_hundred\"\u001b[0m\u001b[1;33m]\u001b[0m\u001b[1;33m)\u001b[0m\u001b[1;33m\u001b[0m\u001b[1;33m\u001b[0m\u001b[0m\n\u001b[0m\u001b[0;32m      2\u001b[0m \u001b[0mno_NaN_pvph\u001b[0m\u001b[1;33m\u001b[0m\u001b[1;33m\u001b[0m\u001b[0m\n",
      "\u001b[1;31mNameError\u001b[0m: name 'my_country' is not defined"
     ]
    }
   ],
   "source": [
    "\n",
    "no_NaN_pvph= my_country.dropna(subset =[\"people_vaccinated_per_hundred\"])\n",
    "no_NaN_pvph"
   ]
  },
  {
   "cell_type": "markdown",
   "metadata": {},
   "source": [
    "#### solution to question 8 - "
   ]
  },
  {
   "cell_type": "code",
   "execution_count": 51,
   "metadata": {},
   "outputs": [
    {
     "data": {
      "text/plain": [
       "4.306794871794873"
      ]
     },
     "execution_count": 51,
     "metadata": {},
     "output_type": "execute_result"
    }
   ],
   "source": [
    "no_NaN_pvph[\"people_vaccinated_per_hundred\"].mean()"
   ]
  },
  {
   "cell_type": "markdown",
   "metadata": {},
   "source": [
    "#### solution to question 9 - "
   ]
  },
  {
   "cell_type": "code",
   "execution_count": 52,
   "metadata": {},
   "outputs": [
    {
     "name": "stdout",
     "output_type": "stream",
     "text": [
      "The avarage about daily_vaccinations higher than the median:  10601.636363636364\n"
     ]
    }
   ],
   "source": [
    "no_NaN_daily_vacc= my_country.dropna(subset =[\"daily_vaccinations\"])\n",
    "no_NaN_daily_vacc\n",
    "daily_vacc_mean=no_NaN_pvph[\"daily_vaccinations\"].mean()\n",
    "daily_vacc_median=no_NaN_pvph[\"daily_vaccinations\"].median()\n",
    "if daily_vacc_mean > daily_vacc_median:\n",
    "    print(\"The avarage about daily_vaccinations higher than the median: \",daily_vacc_mean)\n",
    "elif daily_vacc_mean < daily_vacc_median:\n",
    "    print(\"The median about daily_vaccinations higherthan the avarage: \",daily_vacc_median)\n",
    "else:\n",
    "    print(\"The median and the mean are equal\",daily_vacc_mean)"
   ]
  },
  {
   "cell_type": "code",
   "execution_count": null,
   "metadata": {},
   "outputs": [],
   "source": []
  },
  {
   "cell_type": "code",
   "execution_count": null,
   "metadata": {},
   "outputs": [],
   "source": []
  }
 ],
 "metadata": {
  "kernelspec": {
   "display_name": "Python 3",
   "language": "python",
   "name": "python3"
  },
  "language_info": {
   "codemirror_mode": {
    "name": "ipython",
    "version": 3
   },
   "file_extension": ".py",
   "mimetype": "text/x-python",
   "name": "python",
   "nbconvert_exporter": "python",
   "pygments_lexer": "ipython3",
   "version": "3.8.5"
  }
 },
 "nbformat": 4,
 "nbformat_minor": 4
}
